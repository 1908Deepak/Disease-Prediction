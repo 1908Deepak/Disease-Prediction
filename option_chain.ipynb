{
  "nbformat": 4,
  "nbformat_minor": 0,
  "metadata": {
    "colab": {
      "provenance": [],
      "authorship_tag": "ABX9TyOKtdlc34etf8BDeqWZ8YTJ",
      "include_colab_link": true
    },
    "kernelspec": {
      "name": "python3",
      "display_name": "Python 3"
    },
    "language_info": {
      "name": "python"
    }
  },
  "cells": [
    {
      "cell_type": "markdown",
      "metadata": {
        "id": "view-in-github",
        "colab_type": "text"
      },
      "source": [
        "<a href=\"https://colab.research.google.com/github/1908Deepak/Disease-Prediction/blob/main/option_chain.ipynb\" target=\"_parent\"><img src=\"https://colab.research.google.com/assets/colab-badge.svg\" alt=\"Open In Colab\"/></a>"
      ]
    },
    {
      "cell_type": "markdown",
      "source": [
        "**Installing Dependencies**"
      ],
      "metadata": {
        "id": "P4LQ9JI10YsQ"
      }
    },
    {
      "cell_type": "code",
      "execution_count": 1,
      "metadata": {
        "colab": {
          "base_uri": "https://localhost:8080/",
          "height": 536
        },
        "collapsed": true,
        "id": "B4nL39Ilkz_J",
        "outputId": "d84ba166-0772-40be-e79d-b4c8ef9cd453"
      },
      "outputs": [
        {
          "output_type": "stream",
          "name": "stdout",
          "text": [
            "Collecting upstox-python-sdk\n",
            "  Downloading upstox_python_sdk-2.9.0.tar.gz (119 kB)\n",
            "\u001b[?25l     \u001b[90m━━━━━━━━━━━━━━━━━━━━━━━━━━━━━━━━━━━━━━━━\u001b[0m \u001b[32m0.0/119.6 kB\u001b[0m \u001b[31m?\u001b[0m eta \u001b[36m-:--:--\u001b[0m\r\u001b[2K     \u001b[90m━━━━━━━━━━━━━━━━━━━━━━━━━━━━━━━━━━━━━━━━\u001b[0m \u001b[32m119.6/119.6 kB\u001b[0m \u001b[31m9.8 MB/s\u001b[0m eta \u001b[36m0:00:00\u001b[0m\n",
            "\u001b[?25h  Preparing metadata (setup.py) ... \u001b[?25l\u001b[?25hdone\n",
            "Requirement already satisfied: urllib3>=1.15 in /usr/local/lib/python3.10/dist-packages (from upstox-python-sdk) (2.2.3)\n",
            "Requirement already satisfied: six>=1.10 in /usr/local/lib/python3.10/dist-packages (from upstox-python-sdk) (1.16.0)\n",
            "Requirement already satisfied: certifi in /usr/local/lib/python3.10/dist-packages (from upstox-python-sdk) (2024.8.30)\n",
            "Requirement already satisfied: python-dateutil in /usr/local/lib/python3.10/dist-packages (from upstox-python-sdk) (2.8.2)\n",
            "Requirement already satisfied: websocket-client in /usr/local/lib/python3.10/dist-packages (from upstox-python-sdk) (1.8.0)\n",
            "Collecting uuid (from upstox-python-sdk)\n",
            "  Downloading uuid-1.30.tar.gz (5.8 kB)\n",
            "  Preparing metadata (setup.py) ... \u001b[?25l\u001b[?25hdone\n",
            "Requirement already satisfied: protobuf in /usr/local/lib/python3.10/dist-packages (from upstox-python-sdk) (3.20.3)\n",
            "Building wheels for collected packages: upstox-python-sdk, uuid\n",
            "  Building wheel for upstox-python-sdk (setup.py) ... \u001b[?25l\u001b[?25hdone\n",
            "  Created wheel for upstox-python-sdk: filename=upstox_python_sdk-2.9.0-py3-none-any.whl size=405208 sha256=ba83d2e3672d5fe5b0fdd5acca189d937d0953f5b1a3d2b62004144e04dbfb2d\n",
            "  Stored in directory: /root/.cache/pip/wheels/52/d7/c3/35a06946c3312bcb7bba346c8e7e4b72f9f6a0a61fef567502\n",
            "  Building wheel for uuid (setup.py) ... \u001b[?25l\u001b[?25hdone\n",
            "  Created wheel for uuid: filename=uuid-1.30-py3-none-any.whl size=6478 sha256=8350bf33484d5d392af89740ba427ea49bd8d46856d607b1eccf947af14dabe1\n",
            "  Stored in directory: /root/.cache/pip/wheels/ed/08/9e/f0a977dfe55051a07e21af89200125d65f1efa60cbac61ed88\n",
            "Successfully built upstox-python-sdk uuid\n",
            "Installing collected packages: uuid, upstox-python-sdk\n",
            "Successfully installed upstox-python-sdk-2.9.0 uuid-1.30\n"
          ]
        },
        {
          "output_type": "display_data",
          "data": {
            "application/vnd.colab-display-data+json": {
              "pip_warning": {
                "packages": [
                  "uuid"
                ]
              },
              "id": "5bdcf7d5ca8d40159fc594deedb5c83c"
            }
          },
          "metadata": {}
        }
      ],
      "source": [
        "!pip install upstox-python-sdk"
      ]
    },
    {
      "cell_type": "markdown",
      "source": [
        "**Importing dependencies**"
      ],
      "metadata": {
        "id": "J3AiOLMAzhhD"
      }
    },
    {
      "cell_type": "code",
      "source": [
        "import pandas as pd\n",
        "import requests\n",
        "import os"
      ],
      "metadata": {
        "id": "aRAudjuBk5Mm"
      },
      "execution_count": 22,
      "outputs": []
    },
    {
      "cell_type": "markdown",
      "source": [
        "**Login credentials to access Upstox API**"
      ],
      "metadata": {
        "id": "yczPlnc_zsGD"
      }
    },
    {
      "cell_type": "code",
      "source": [
        "api_key = 'ed2bc706-c04c-4900-8a5f-67d3907e6801'   #enter your api_key\n",
        "secret_key = 'lalnc4yki5'   #  enter your secret_key\n",
        "redirect_url = 'https://api.upstox.com/v2/login'\n",
        "#Generate authorization URL required for the OAuth process with Upstox.\n",
        "url = f\"https://api.upstox.com/v2/login/authorization/dialog?response_type=code&client_id={api_key}&redirect_uri={redirect_url}\"\n",
        "print(url)"
      ],
      "metadata": {
        "colab": {
          "base_uri": "https://localhost:8080/"
        },
        "id": "34p3xzwKk74t",
        "outputId": "c88cc088-b66a-4e9c-b24f-88d3b5364d93"
      },
      "execution_count": 2,
      "outputs": [
        {
          "output_type": "stream",
          "name": "stdout",
          "text": [
            "https://api.upstox.com/v2/login/authorization/dialog?response_type=code&client_id=ed2bc706-c04c-4900-8a5f-67d3907e6801&redirect_uri=https://api.upstox.com/v2/login\n"
          ]
        }
      ]
    },
    {
      "cell_type": "markdown",
      "source": [
        "**Authorization code**"
      ],
      "metadata": {
        "id": "Pd5Ba-kOzWst"
      }
    },
    {
      "cell_type": "code",
      "source": [
        "# login code from authorization URL\n",
        "code = 'I641qi'"
      ],
      "metadata": {
        "id": "C8TkdTykk_MJ"
      },
      "execution_count": 3,
      "outputs": []
    },
    {
      "cell_type": "markdown",
      "source": [
        "**Exchange the authorization code for an access token in the OAuth 2.0 authentication flow.**"
      ],
      "metadata": {
        "id": "EhRS_k9JzJOS"
      }
    },
    {
      "cell_type": "code",
      "source": [
        "# Exchange the authorization code for an access token in the OAuth 2.0 authentication flow.\n",
        "token_url = 'https://api.upstox.com/v2/login/authorization/token'\n",
        "headers = {\n",
        "    'accept': 'application/json',\n",
        "    'Content-Type': 'application/x-www-form-urlencoded'\n",
        "}\n",
        "data = {\n",
        "    'code': code,\n",
        "    'client_id': api_key,\n",
        "    'client_secret': secret_key,\n",
        "    'redirect_uri': 'https://api.upstox.com/v2/login',\n",
        "    'grant_type': 'authorization_code',\n",
        "}\n",
        "response = requests.post(token_url, headers=headers, data=data)\n",
        "\n",
        "# Check the status code of the response\n",
        "if response.status_code == 200:\n",
        "    json_response = response.json()\n",
        "    # variable to store access token\n",
        "    access_token = json_response['access_token']\n",
        "else:\n",
        "    print(f\"Error: {response.status_code}\")\n",
        "    print(response.text)  # Print the error message from the API\n",
        "    # Handle the error appropriately, e.g., retry with a new authorization code or check your credentials"
      ],
      "metadata": {
        "id": "gy1qaFlrlE18"
      },
      "execution_count": 4,
      "outputs": []
    },
    {
      "cell_type": "markdown",
      "source": [
        "**To fetch user's Profile**"
      ],
      "metadata": {
        "id": "ILJJVwcBzBLt"
      }
    },
    {
      "cell_type": "code",
      "source": [
        "profile_url = 'https://api.upstox.com/v2/user/profile'\n",
        "headers = {\n",
        "    'Accept': 'application/json',\n",
        "    'Authorization': f'Bearer {access_token}'\n",
        "}\n",
        "response = requests.get(profile_url, headers=headers)\n",
        "\n",
        "profile_details_json = response.json()\n",
        "profile_details = pd.DataFrame(profile_details_json)\n",
        "print(profile_details)"
      ],
      "metadata": {
        "colab": {
          "base_uri": "https://localhost:8080/"
        },
        "id": "0YjvjR10lH_0",
        "outputId": "1b2f9aa3-0e2f-4e2d-da75-61321818a383"
      },
      "execution_count": 5,
      "outputs": [
        {
          "output_type": "stream",
          "name": "stdout",
          "text": [
            "              status                       data\n",
            "email        success        ds0709349@gmail.com\n",
            "exchanges    success  [BSE, MCX, CDS, NSE, NFO]\n",
            "products     success            [OCO, D, CO, I]\n",
            "broker       success                     UPSTOX\n",
            "user_id      success                     5YBXKE\n",
            "user_name    success               DEEPAK SINGH\n",
            "order_types  success  [MARKET, LIMIT, SL, SL-M]\n",
            "user_type    success                 individual\n",
            "poa          success                      False\n",
            "ddpi         success                      False\n",
            "is_active    success                       True\n"
          ]
        }
      ]
    },
    {
      "cell_type": "markdown",
      "source": [
        " \"\"\"\n",
        "    **Get option chain data from Upstox API and organizes it by strike price with bid/ask based on side.**\n",
        "\n",
        "    Parameters::\n",
        "    - instrument_key (str): The key of the instrument (e.g., 'NSE_INDEX|Nifty 50' or 'NSE_INDEX|Bank Nifty').\n",
        "    - expiry_date (str): Expiration date in 'YYYY-MM-DD' format.\n",
        "    - side (str): Specify 'PE' for put options, 'CE' for call options, or 'ALL' for both.\n",
        "\n",
        "    Returns:\n",
        "    - pd.DataFrame: DataFrame with columns: instrument_name, strike_price, side, and bid/ask.\n",
        "    "
      ],
      "metadata": {
        "id": "hulFOrQfysXc"
      }
    },
    {
      "cell_type": "code",
      "source": [
        "def get_option_chain_data(instrument_key, expiry_date, side):\n",
        "    # Determine instrument name based on instrument_key\n",
        "    instrument_name = \"NIFTY\" if \"Nifty 50\" in instrument_key else \"BANKNIFTY\"\n",
        "\n",
        "    url = 'https://api.upstox.com/v2/option/chain'\n",
        "    params = {\n",
        "        'instrument_key': instrument_key,\n",
        "        'expiry_date': expiry_date\n",
        "    }\n",
        "    headers = {\n",
        "        'Accept': 'application/json',\n",
        "        'Authorization': f'Bearer {access_token}'  # Access token assumed to be defined globally\n",
        "    }\n",
        "\n",
        "    # Fetch the option chain data\n",
        "    response = requests.get(url, params=params, headers=headers)\n",
        "\n",
        "    # Check if the response was successful\n",
        "    if response.status_code != 200:\n",
        "        raise Exception(f\"Error fetching data: {response.status_code}, {response.text}\")\n",
        "\n",
        "    option_chain_data = response.json().get('data', [])\n",
        "\n",
        "    # Prepare a list to collect each row of data\n",
        "    data = []\n",
        "\n",
        "    # Process the option chain data\n",
        "    for entry in option_chain_data:\n",
        "        strike_price = entry['strike_price']\n",
        "\n",
        "        # Get put (PE) data if required\n",
        "        if side in [\"PE\", \"ALL\"]:\n",
        "            put_data = entry.get('put_options', {})\n",
        "            bid_price = put_data.get('market_data', {}).get('bid_price')\n",
        "            if bid_price is not None:\n",
        "                data.append({\n",
        "                    'instrument_name': instrument_name,\n",
        "                    'strike_price': strike_price,\n",
        "                    'side': 'PE',\n",
        "                    'bid/ask': bid_price\n",
        "                })\n",
        "\n",
        "        # Get call (CE) data if required\n",
        "        if side in [\"CE\", \"ALL\"]:\n",
        "            call_data = entry.get('call_options', {})\n",
        "            ask_price = call_data.get('market_data', {}).get('ask_price')\n",
        "            if ask_price is not None:\n",
        "                data.append({\n",
        "                    'instrument_name': instrument_name,\n",
        "                    'strike_price': strike_price,\n",
        "                    'side': 'CE',\n",
        "                    'bid/ask': ask_price\n",
        "                })\n",
        "\n",
        "    # Convert to DataFrame\n",
        "    df = pd.DataFrame(data, columns=['instrument_name', 'strike_price', 'side', 'bid/ask'])\n",
        "    return df\n",
        "\n",
        "print(\"Sample Output:\")\n",
        "print(get_option_chain_data('NSE_INDEX|Nifty 50', '2025-06-26', 'ALL'))\n"
      ],
      "metadata": {
        "colab": {
          "base_uri": "https://localhost:8080/"
        },
        "id": "cjOAJzYHlH4a",
        "outputId": "109bfd12-0778-436a-b82e-0f21228e0d95"
      },
      "execution_count": 23,
      "outputs": [
        {
          "output_type": "stream",
          "name": "stdout",
          "text": [
            "Sample Output:\n",
            "   instrument_name  strike_price side  bid/ask\n",
            "0            NIFTY       18000.0   PE    20.50\n",
            "1            NIFTY       18000.0   CE  8200.00\n",
            "2            NIFTY       19000.0   PE    22.80\n",
            "3            NIFTY       19000.0   CE     0.00\n",
            "4            NIFTY       20000.0   PE    31.95\n",
            "5            NIFTY       20000.0   CE     0.00\n",
            "6            NIFTY       21000.0   PE    59.95\n",
            "7            NIFTY       21000.0   CE     0.00\n",
            "8            NIFTY       22000.0   PE   206.05\n",
            "9            NIFTY       22000.0   CE     0.00\n",
            "10           NIFTY       23000.0   PE   365.00\n",
            "11           NIFTY       23000.0   CE     0.00\n",
            "12           NIFTY       24000.0   PE   585.00\n",
            "13           NIFTY       24000.0   CE  1815.25\n",
            "14           NIFTY       25000.0   PE   900.00\n",
            "15           NIFTY       25000.0   CE  1199.95\n",
            "16           NIFTY       26000.0   PE  1384.30\n",
            "17           NIFTY       26000.0   CE   749.95\n",
            "18           NIFTY       27000.0   PE  1911.30\n",
            "19           NIFTY       27000.0   CE   403.95\n",
            "20           NIFTY       28000.0   PE  2139.00\n",
            "21           NIFTY       28000.0   CE   200.00\n",
            "22           NIFTY       29000.0   PE  2766.00\n",
            "23           NIFTY       29000.0   CE   133.40\n",
            "24           NIFTY       30000.0   PE  3432.00\n",
            "25           NIFTY       30000.0   CE     0.00\n",
            "26           NIFTY       31000.0   PE  4135.05\n",
            "27           NIFTY       31000.0   CE     0.00\n"
          ]
        }
      ]
    },
    {
      "cell_type": "markdown",
      "source": [
        "**Calculates margin required and premium earned for each option in the DataFrame**\n",
        "\n",
        "    Parameters:\n",
        "    - df (pd.DataFrame): DataFrame containing option data with columns: instrument_name, strike_price, side, bid/ask.\n",
        "    - num_contracts (int): Number of contracts traded (default is 1).\n",
        "\n",
        "    Returns:\n",
        "    - pd.DataFrame: Updated DataFrame with margin_required and premium_earned columns.\n"
      ],
      "metadata": {
        "id": "Qu7tBIC0xul8"
      }
    },
    {
      "cell_type": "code",
      "source": [
        "def calculate_margin_and_premium(df, num_contracts=1):\n",
        "    # Calculate margin required (10% of bid/ask price for simplicity)\n",
        "    df['margin_required'] = df['bid/ask'] * 0.10  # Example: 10% of the bid/ask price\n",
        "\n",
        "    # Calculate premium earned (bid/ask price multiplied by number of contracts)\n",
        "    df['premium_earned'] = df['bid/ask'] * num_contracts\n",
        "\n",
        "    return df\n",
        "\n",
        "# Example usage after fetching option chain data\n",
        "instrument_key = 'NSE_INDEX|Nifty 50'\n",
        "expiry_date = '2025-06-26'\n",
        "side = 'ALL'  # 'PE' for put options, 'CE' for call options, or 'ALL' for both\n",
        "\n",
        "# Fetching option chain data\n",
        "df = get_option_chain_data(instrument_key, expiry_date, side)\n",
        "\n",
        "# Calculating margin and premium\n",
        "updated_df = calculate_margin_and_premium(df, num_contracts=1)\n",
        "print(\"Sample Output:\")\n",
        "\n",
        "# Display the updated DataFrame\n",
        "print(updated_df.to_string(index=False))"
      ],
      "metadata": {
        "colab": {
          "base_uri": "https://localhost:8080/"
        },
        "id": "e7lb12n5lH1D",
        "outputId": "a8a845ad-de86-47af-c0a0-3852992616fb"
      },
      "execution_count": 24,
      "outputs": [
        {
          "output_type": "stream",
          "name": "stdout",
          "text": [
            "Sample Output:\n",
            "instrument_name  strike_price side  bid/ask  margin_required  premium_earned\n",
            "          NIFTY       18000.0   PE    20.50            2.050           20.50\n",
            "          NIFTY       18000.0   CE  8200.00          820.000         8200.00\n",
            "          NIFTY       19000.0   PE    22.80            2.280           22.80\n",
            "          NIFTY       19000.0   CE     0.00            0.000            0.00\n",
            "          NIFTY       20000.0   PE    31.95            3.195           31.95\n",
            "          NIFTY       20000.0   CE     0.00            0.000            0.00\n",
            "          NIFTY       21000.0   PE    59.95            5.995           59.95\n",
            "          NIFTY       21000.0   CE     0.00            0.000            0.00\n",
            "          NIFTY       22000.0   PE   206.05           20.605          206.05\n",
            "          NIFTY       22000.0   CE     0.00            0.000            0.00\n",
            "          NIFTY       23000.0   PE   365.00           36.500          365.00\n",
            "          NIFTY       23000.0   CE     0.00            0.000            0.00\n",
            "          NIFTY       24000.0   PE   585.00           58.500          585.00\n",
            "          NIFTY       24000.0   CE  1815.25          181.525         1815.25\n",
            "          NIFTY       25000.0   PE   900.00           90.000          900.00\n",
            "          NIFTY       25000.0   CE  1199.95          119.995         1199.95\n",
            "          NIFTY       26000.0   PE  1384.30          138.430         1384.30\n",
            "          NIFTY       26000.0   CE   749.95           74.995          749.95\n",
            "          NIFTY       27000.0   PE  1911.30          191.130         1911.30\n",
            "          NIFTY       27000.0   CE   403.95           40.395          403.95\n",
            "          NIFTY       28000.0   PE  2139.00          213.900         2139.00\n",
            "          NIFTY       28000.0   CE   200.00           20.000          200.00\n",
            "          NIFTY       29000.0   PE  2766.00          276.600         2766.00\n",
            "          NIFTY       29000.0   CE   133.40           13.340          133.40\n",
            "          NIFTY       30000.0   PE  3432.00          343.200         3432.00\n",
            "          NIFTY       30000.0   CE     0.00            0.000            0.00\n",
            "          NIFTY       31000.0   PE  4135.05          413.505         4135.05\n",
            "          NIFTY       31000.0   CE     0.00            0.000            0.00\n"
          ]
        }
      ]
    },
    {
      "cell_type": "markdown",
      "source": [
        "**Clear previous data and save the new DataFrame to a CSV file.**\n",
        "    \n",
        "    Parameters:\n",
        "    - df (pd.DataFrame): The DataFrame containing data to be saved.\n",
        "    - file_path (str): The path of the CSV file.\n",
        "    "
      ],
      "metadata": {
        "id": "W4lAAH1xbMpo"
      }
    },
    {
      "cell_type": "code",
      "source": [
        "def save_to_csv(df, file_path):\n",
        "    # Check if the file exists and remove it to clear old data\n",
        "    if os.path.exists('/content/premium.csv'):\n",
        "        os.remove('/content/premium.csv')\n",
        "        print(f\"Cleared previous contents of {'/content/premium.csv'}\")\n",
        "\n",
        "    # Save the new data to the CSV file\n",
        "    df.to_csv('/content/premium.csv', index=False)\n",
        "    print(f\"Data saved to {'/content/premium.csv'}\")\n",
        "\n",
        "# Example usage\n",
        "premium_margin_file = '/content/premium.csv'\n",
        "\n",
        "# Assume `df` is the DataFrame from your calculate_margin_and_premium function\n",
        "# df = calculate_margin_and_premium(option_chain_df)\n",
        "\n",
        "# Save the DataFrame to the CSV file after clearing previous data\n",
        "save_to_csv(df, premium_margin_file)\n"
      ],
      "metadata": {
        "colab": {
          "base_uri": "https://localhost:8080/"
        },
        "id": "keFOOV-gaaBA",
        "outputId": "abc7527b-e143-4602-d5cf-701aca096c2c"
      },
      "execution_count": 21,
      "outputs": [
        {
          "output_type": "stream",
          "name": "stdout",
          "text": [
            "Cleared previous contents of /content/premium.csv\n",
            "Data saved to /content/premium.csv\n"
          ]
        }
      ]
    },
    {
      "cell_type": "markdown",
      "source": [
        "**Sample Input 1:**\n",
        "\n",
        "*   NSE_INDEX|Nifty Bank\n",
        "*   2024-11-06\n",
        "\n"
      ],
      "metadata": {
        "id": "VkyJokKdcKxL"
      }
    },
    {
      "cell_type": "markdown",
      "source": [
        "**Sample Input 2:**\n",
        "\n",
        "\n",
        "*   NSE_INDEX|Nifty 50\n",
        "*   2025-06-26\n",
        "\n"
      ],
      "metadata": {
        "id": "yd8hvno7cNtS"
      }
    }
  ]
}